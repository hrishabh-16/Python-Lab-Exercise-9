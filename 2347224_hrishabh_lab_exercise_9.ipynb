{
 "cells": [
  {
   "cell_type": "markdown",
   "metadata": {},
   "source": [
    "### Q1 .Write a program to distinguish between Array Indexing and Fancy Indexing.\n"
   ]
  },
  {
   "cell_type": "code",
   "execution_count": 83,
   "metadata": {},
   "outputs": [
    {
     "name": "stdout",
     "output_type": "stream",
     "text": [
      "Array Indexing:\n",
      "arr[0]: 11\n",
      "arr[3]: 47\n",
      "\n",
      "Fancy Indexing:\n",
      "arr[indices]: [11 32 59]\n",
      "\n"
     ]
    }
   ],
   "source": [
    "import numpy as np\n",
    "\n",
    "# Create a sample NumPy array\n",
    "arr = np.array([11, 21, 32, 47, 59 , 65, 75, 89 , 90 ,97 ])\n",
    "\n",
    "# Array Indexing: Accessing individual elements using integer indices\n",
    "print(\"Array Indexing:\")\n",
    "print(\"arr[0]:\", arr[0])  # Access the first element\n",
    "print(\"arr[3]:\", arr[3])  # Access the fourth element\n",
    "print()\n",
    "\n",
    "# Fancy Indexing: Accessing elements using arrays of indices\n",
    "print(\"Fancy Indexing:\")\n",
    "indices = np.array([0, 2, 4])  # Create an array of indices\n",
    "print(\"arr[indices]:\", arr[indices])  # Access elements at the specified indices\n",
    "print()\n",
    "\n"
   ]
  },
  {
   "cell_type": "markdown",
   "metadata": {},
   "source": [
    "### Q2. Execute the 2D array Slicing.\n"
   ]
  },
  {
   "cell_type": "code",
   "execution_count": 84,
   "metadata": {},
   "outputs": [
    {
     "name": "stdout",
     "output_type": "stream",
     "text": [
      "Original Array:\n",
      "[[ 1  2  3  4]\n",
      " [ 5  6  7  8]\n",
      " [ 9 10 11 12]]\n",
      "\n",
      "Row 1:\n",
      "[5 6 7 8]\n",
      "\n",
      "Column 2:\n",
      "[ 3  7 11]\n",
      "\n",
      "Subarray1 (rows 0:2, columns 1:3):\n",
      "[[2 3]\n",
      " [6 7]]\n",
      "\n",
      "Step Slice (every other row, every other column):\n",
      "[[ 1  3]\n",
      " [ 9 11]]\n",
      "\n",
      "Subarray2 (rows 1:3, columns 2:4):\n",
      "[[ 7  8]\n",
      " [11 12]]\n"
     ]
    }
   ],
   "source": [
    "import numpy as np\n",
    "\n",
    "# Create a sample 2D NumPy array\n",
    "data = np.array([[1, 2, 3, 4],\n",
    "                 [5, 6, 7, 8],\n",
    "                 [9, 10, 11, 12]])\n",
    "\n",
    "# Display the original array\n",
    "print(\"Original Array:\")\n",
    "print(data)\n",
    "\n",
    "# Slicing the array\n",
    "# Syntax: array[row_start:row_end, col_start:col_end]\n",
    "\n",
    "# Selecting a single row (row 1)\n",
    "row_1 = data[1, :]\n",
    "print(\"\\nRow 1:\")\n",
    "print(row_1)\n",
    "\n",
    "# Selecting a single column (column 2)\n",
    "col_2 = data[:, 2]\n",
    "print(\"\\nColumn 2:\")\n",
    "print(col_2)\n",
    "\n",
    "# Slicing a subarray (rows 0 and 1, columns 1 and 2)\n",
    "subarray1 = data[0:2, 1:3]\n",
    "print(\"\\nSubarray1 (rows 0:2, columns 1:3):\")\n",
    "print(subarray1)\n",
    "\n",
    "# Slicing with step (every other row, every other column)\n",
    "step_slice = data[::2, ::2]\n",
    "print(\"\\nStep Slice (every other row, every other column):\")\n",
    "print(step_slice)\n",
    "\n",
    "subarray2= data[1:3, 2:4]\n",
    "print(\"\\nSubarray2 (rows 1:3, columns 2:4):\")\n",
    "print(subarray2)\n",
    "\n"
   ]
  },
  {
   "cell_type": "markdown",
   "metadata": {},
   "source": [
    "### Q3. Create the 5-Dimensional arrays using ‘ndmin’."
   ]
  },
  {
   "cell_type": "code",
   "execution_count": 85,
   "metadata": {},
   "outputs": [
    {
     "name": "stdout",
     "output_type": "stream",
     "text": [
      "Shape of the 5-D array: (1, 1, 1, 1, 4)\n",
      "5-D Array:\n",
      "[[[[[11 22 23 44]]]]]\n"
     ]
    }
   ],
   "source": [
    "import numpy as np\n",
    "\n",
    "# Create a 5-D array with ndmin\n",
    "array_5d = np.array([11, 22, 23, 44], ndmin=5)\n",
    "\n",
    "# Check the shape of the array\n",
    "print(\"Shape of the 5-D array:\", array_5d.shape)\n",
    "\n",
    "# Display the 5-D array\n",
    "print(\"5-D Array:\")\n",
    "print(array_5d)\n"
   ]
  },
  {
   "cell_type": "markdown",
   "metadata": {},
   "source": [
    "### Q4. Reshape the array from 1-D to 2-D array."
   ]
  },
  {
   "cell_type": "code",
   "execution_count": 86,
   "metadata": {},
   "outputs": [
    {
     "name": "stdout",
     "output_type": "stream",
     "text": [
      "Original 1-D array:\n",
      "[11 22 33 44 55 66 77 88 99]\n",
      "\n",
      "Reshaped 2-D array (using reshape):\n",
      "[[11 22 33]\n",
      " [44 55 66]\n",
      " [77 88 99]]\n"
     ]
    }
   ],
   "source": [
    "import numpy as np\n",
    "\n",
    "# Create a 1-D array\n",
    "array_1d = np.array([11, 22, 33, 44, 55, 66 ,77,88,99])\n",
    "\n",
    "#  Using numpy.reshape()\n",
    "array_2d_1 = np.reshape(array_1d, (3, 3))\n",
    "\n",
    "\n",
    "\n",
    "# Display the original and reshaped arrays\n",
    "print(\"Original 1-D array:\")\n",
    "print(array_1d)\n",
    "\n",
    "print(\"\\nReshaped 2-D array (using reshape):\")\n",
    "print(array_2d_1)\n",
    "\n",
    "\n"
   ]
  },
  {
   "cell_type": "markdown",
   "metadata": {},
   "source": [
    "### Q5. Perform the Stack functions in Numpy arrays – Stack(), hstack(), vstack(), and dstack()."
   ]
  },
  {
   "cell_type": "code",
   "execution_count": 87,
   "metadata": {},
   "outputs": [
    {
     "name": "stdout",
     "output_type": "stream",
     "text": [
      "stacked_array (stack along a new axis):\n",
      "[[11 22 33]\n",
      " [34 55 86]]\n",
      "\n",
      "hstacked_array (horizontal stacking):\n",
      "[11 22 33 34 55 86]\n",
      "\n",
      "vstacked_array (vertical stacking):\n",
      "[[11 22 33]\n",
      " [34 55 86]]\n",
      "\n",
      "dstacked_array (depth-wise stacking):\n",
      "[[[ 1  7]\n",
      "  [ 2  8]\n",
      "  [ 3  9]]\n",
      "\n",
      " [[ 4 10]\n",
      "  [ 5 11]\n",
      "  [ 6 12]]]\n"
     ]
    }
   ],
   "source": [
    "import numpy as np\n",
    "\n",
    "# Create two sample arrays\n",
    "array1 = np.array([11, 22, 33])\n",
    "array2 = np.array([34, 55, 86])\n",
    "\n",
    "# Perform stacking operations\n",
    "\n",
    "# 1. stack() - Stacking along a new axis (axis=0 by default)\n",
    "stacked_array = np.stack((array1, array2))\n",
    "print(\"stacked_array (stack along a new axis):\")\n",
    "print(stacked_array)\n",
    "\n",
    "# 2. hstack() - Horizontal stacking (column-wise)\n",
    "hstacked_array = np.hstack((array1, array2))\n",
    "print(\"\\nhstacked_array (horizontal stacking):\")\n",
    "print(hstacked_array)\n",
    "\n",
    "# 3. vstack() - Vertical stacking (row-wise)\n",
    "vstacked_array = np.vstack((array1, array2))\n",
    "print(\"\\nvstacked_array (vertical stacking):\")\n",
    "print(vstacked_array)\n",
    "\n",
    "# Create two 2-D sample arrays\n",
    "array3 = np.array([[1, 2, 3], [4, 5, 6]])\n",
    "array4 = np.array([[7, 8, 9], [10, 11, 12]])\n",
    "\n",
    "# 4. dstack() - Stacking along a new 3rd axis (depth-wise)\n",
    "dstacked_array = np.dstack((array3, array4))\n",
    "print(\"\\ndstacked_array (depth-wise stacking):\")\n",
    "print(dstacked_array)\n"
   ]
  },
  {
   "cell_type": "markdown",
   "metadata": {},
   "source": [
    "### Q6. Perform the searchsort method in Numpy array."
   ]
  },
  {
   "cell_type": "code",
   "execution_count": 88,
   "metadata": {},
   "outputs": [
    {
     "name": "stdout",
     "output_type": "stream",
     "text": [
      "Sorted Array (ascending order):\n",
      "[ 1  2  4  6  8 10]\n",
      "\n",
      "Sorted Array (descending order):\n",
      "[10  8  6  4  2  1]\n",
      "\n",
      "Position to Insert 5 to Maintain Sorted Order: 3\n",
      "\n",
      "Positions to Insert Multiple Values to Maintain Sorted Order:\n",
      "[2 4 5]\n"
     ]
    }
   ],
   "source": [
    "import numpy as np\n",
    "\n",
    "#Create a sample NumPy array\n",
    "array = np.array([4, 2, 8, 6, 10, 1])\n",
    "\n",
    "#Sort the array in ascending order\n",
    "sorted_array = np.sort(array)\n",
    "print(\"Sorted Array (ascending order):\")\n",
    "print(sorted_array)\n",
    "\n",
    "# Sort the array in descending order\n",
    "reverse_sorted_array = np.sort(array)[::-1]\n",
    "print(\"\\nSorted Array (descending order):\")\n",
    "print(reverse_sorted_array)\n",
    "\n",
    "\n",
    "# Perform a binary search to find the position to insert a value while maintaining the sorted order\n",
    "value_to_insert = 5\n",
    "position_to_insert = np.searchsorted(sorted_array, value_to_insert)\n",
    "print(f\"\\nPosition to Insert {value_to_insert} to Maintain Sorted Order:\", position_to_insert)\n",
    "\n",
    "# Perform a binary search to find the indices where a value should be inserted to maintain sorted order\n",
    "values_to_insert = [3, 7, 9]\n",
    "positions_to_insert = np.searchsorted(sorted_array, values_to_insert)\n",
    "print(\"\\nPositions to Insert Multiple Values to Maintain Sorted Order:\")\n",
    "print(positions_to_insert)\n"
   ]
  },
  {
   "cell_type": "markdown",
   "metadata": {},
   "source": [
    "### Q7. Create Numpy Structured array using your domain features."
   ]
  },
  {
   "cell_type": "code",
   "execution_count": 89,
   "metadata": {},
   "outputs": [
    {
     "name": "stdout",
     "output_type": "stream",
     "text": [
      "Election Data Structured Array:\n",
      "[(1, 'Alok Misra', 30, '123 Main St',  True)\n",
      " (2, 'John Smith', 28, '456 Elm St', False)\n",
      " (3, 'Anand Patel', 35, '789 Oak St',  True)]\n"
     ]
    }
   ],
   "source": [
    "import numpy as np\n",
    "\n",
    "# Define the structured data type for the election system\n",
    "election_dtype = np.dtype([\n",
    "    ('voter_id', 'int32'),\n",
    "    ('voter_name', 'U50'),  # 'U50' specifies Unicode string of up to 50 characters\n",
    "    ('age', 'int32'),\n",
    "    ('address', 'U100'),   # 'U100' specifies Unicode string of up to 100 characters\n",
    "    ('vote_cast', 'bool')\n",
    "])\n",
    "\n",
    "# Create a structured array with sample data\n",
    "election_data = np.array([\n",
    "    (1, 'Alok Misra', 30, '123 Main St', True),\n",
    "    (2, 'John Smith', 28, '456 Elm St', False),\n",
    "    (3, 'Anand Patel', 35, '789 Oak St', True)\n",
    "], dtype=election_dtype)\n",
    "\n",
    "# Print the structured array\n",
    "print(\"Election Data Structured Array:\")\n",
    "print(election_data)\n",
    "\n"
   ]
  },
  {
   "cell_type": "markdown",
   "metadata": {},
   "source": [
    "### Q8. Create Data frame using List and Dictionary."
   ]
  },
  {
   "cell_type": "code",
   "execution_count": 90,
   "metadata": {},
   "outputs": [
    {
     "name": "stdout",
     "output_type": "stream",
     "text": [
      "DataFrame created using Lists:\n",
      "     Name  Age      Occupation\n",
      "0     RAM   28        Engineer\n",
      "1   MOHAN   24  Data Scientist\n",
      "2  KISHAN   22         Student\n",
      "\n",
      "DataFrame created using Dictionaries:\n",
      "    Name  Age Occupation\n",
      "0  RAHIM   32     Doctor\n",
      "1  RISHI   30    Teacher\n",
      "2  FEROZ   26     Artist\n"
     ]
    }
   ],
   "source": [
    "import pandas as pd\n",
    "\n",
    "# Creating a DataFrame using Lists\n",
    "data_list = [['RAM', 28, 'Engineer'],\n",
    "             ['MOHAN', 24, 'Data Scientist'],\n",
    "             ['KISHAN', 22, 'Student']]\n",
    "\n",
    "columns_list = ['Name', 'Age', 'Occupation']\n",
    "\n",
    "df_list = pd.DataFrame(data_list, columns=columns_list)\n",
    "\n",
    "# Creating a DataFrame using Dictionaries\n",
    "data_dict = {\n",
    "    'Name': ['RAHIM', 'RISHI', 'FEROZ'],\n",
    "    'Age': [32, 30, 26],\n",
    "    'Occupation': ['Doctor', 'Teacher', 'Artist']\n",
    "}\n",
    "\n",
    "df_dict = pd.DataFrame(data_dict)\n",
    "\n",
    "# Displaying the DataFrames\n",
    "print(\"DataFrame created using Lists:\")\n",
    "print(df_list)\n",
    "\n",
    "print(\"\\nDataFrame created using Dictionaries:\")\n",
    "print(df_dict)\n",
    "\n"
   ]
  },
  {
   "cell_type": "markdown",
   "metadata": {},
   "source": [
    "### Q9. Create Data frame on your Domain area and perform the following operations to find and eliminate themissing data from the dataset.\n",
    "• isnull()\n",
    "• notnull()\n",
    "• dropna()\n",
    "• fillna()\n",
    "• replace()\n",
    "• interpolate()"
   ]
  },
  {
   "cell_type": "code",
   "execution_count": 91,
   "metadata": {},
   "outputs": [
    {
     "name": "stdout",
     "output_type": "stream",
     "text": [
      "Original DataFrame:\n",
      "   voter_id voter_name   age      address  vote_cast\n",
      "0         1       Jane  30.0  123 Main St       True\n",
      "1         2     Jaffri   NaN         None      False\n",
      "2         3       Aman  25.0   456 Elm St       True\n",
      "3         4      Munda  40.0   789 Oak St       True\n",
      "4         5      Aalok   NaN         None      False\n",
      "\n",
      "Check for Missing Data (isnull()):\n",
      "   voter_id  voter_name    age  address  vote_cast\n",
      "0     False       False  False    False      False\n",
      "1     False       False   True     True      False\n",
      "2     False       False  False    False      False\n",
      "3     False       False  False    False      False\n",
      "4     False       False   True     True      False\n",
      "\n",
      "Check for Non-Missing Data (notnull()):\n",
      "   voter_id  voter_name    age  address  vote_cast\n",
      "0      True        True   True     True       True\n",
      "1      True        True  False    False       True\n",
      "2      True        True   True     True       True\n",
      "3      True        True   True     True       True\n",
      "4      True        True  False    False       True\n",
      "\n",
      "DataFrame after dropping rows with missing values (dropna()):\n",
      "   voter_id voter_name   age      address  vote_cast\n",
      "0         1       Jane  30.0  123 Main St       True\n",
      "2         3       Aman  25.0   456 Elm St       True\n",
      "3         4      Munda  40.0   789 Oak St       True\n",
      "\n",
      "DataFrame after filling missing values (fillna()):\n",
      "   voter_id voter_name        age      address  vote_cast\n",
      "0         1       Jane  30.000000  123 Main St       True\n",
      "1         2     Jaffri  31.666667      Unknown      False\n",
      "2         3       Aman  25.000000   456 Elm St       True\n",
      "3         4      Munda  40.000000   789 Oak St       True\n",
      "4         5      Aalok  31.666667      Unknown      False\n",
      "\n",
      "DataFrame after replacing values (replace()):\n",
      "   voter_id voter_name   age      address vote_cast\n",
      "0         1       Jane  30.0  123 Main St       Yes\n",
      "1         2     Jaffri   NaN         None        No\n",
      "2         3       Aman  25.0   456 Elm St       Yes\n",
      "3         4      Munda  40.0   789 Oak St       Yes\n",
      "4         5      Aalok   NaN         None        No\n",
      "\n",
      "DataFrame after interpolating missing values (interpolate()):\n",
      "   voter_id voter_name   age      address  vote_cast\n",
      "0         1       Jane  30.0  123 Main St       True\n",
      "1         2     Jaffri  27.5         None      False\n",
      "2         3       Aman  25.0   456 Elm St       True\n",
      "3         4      Munda  40.0   789 Oak St       True\n",
      "4         5      Aalok  40.0         None      False\n"
     ]
    },
    {
     "name": "stderr",
     "output_type": "stream",
     "text": [
      "/var/folders/fz/sw830djj40x8hdx5bbn5fd3h0000gn/T/ipykernel_6494/1150546438.py:45: FutureWarning: DataFrame.interpolate with object dtype is deprecated and will raise in a future version. Call obj.infer_objects(copy=False) before interpolating instead.\n",
      "  df_interpolated = df.interpolate()\n"
     ]
    }
   ],
   "source": [
    "import pandas as pd\n",
    "import numpy as np\n",
    "\n",
    "# Create a sample DataFrame for the online election system\n",
    "data = {\n",
    "    'voter_id': [1, 2, 3, 4, 5],\n",
    "    'voter_name': ['Jane', 'Jaffri', 'Aman', 'Munda', 'Aalok'],\n",
    "    'age': [30, None, 25, 40, None],\n",
    "    'address': ['123 Main St', None, '456 Elm St', '789 Oak St', None],\n",
    "    'vote_cast': [True, False, True, True, False]\n",
    "}\n",
    "\n",
    "df = pd.DataFrame(data)\n",
    "\n",
    "# Display the original DataFrame\n",
    "print(\"Original DataFrame:\")\n",
    "print(df)\n",
    "\n",
    "# Check for missing data\n",
    "\n",
    "# isnull() - Check if a value is missing (returns a DataFrame of boolean values)\n",
    "print(\"\\nCheck for Missing Data (isnull()):\")\n",
    "print(df.isnull())\n",
    "\n",
    "# notnull() - Check if a value is not missing (returns a DataFrame of boolean values)\n",
    "print(\"\\nCheck for Non-Missing Data (notnull()):\")\n",
    "print(df.notnull())\n",
    "\n",
    "# dropna() - Remove rows with missing values\n",
    "df_dropped = df.dropna()\n",
    "print(\"\\nDataFrame after dropping rows with missing values (dropna()):\")\n",
    "print(df_dropped)\n",
    "\n",
    "# fillna() - Fill missing values with a specified value or strategy\n",
    "df_filled = df.fillna({'age': df['age'].mean(), 'address': 'Unknown'})\n",
    "print(\"\\nDataFrame after filling missing values (fillna()):\")\n",
    "print(df_filled)\n",
    "\n",
    "# replace() - Replace specific values with another value\n",
    "df_replaced = df.replace({'vote_cast': {True: 'Yes', False: 'No'}})\n",
    "print(\"\\nDataFrame after replacing values (replace()):\")\n",
    "print(df_replaced)\n",
    "\n",
    "# interpolate() - Interpolate missing values (works well with numeric data)\n",
    "df_interpolated = df.interpolate()\n",
    "print(\"\\nDataFrame after interpolating missing values (interpolate()):\")\n",
    "print(df_interpolated)\n"
   ]
  },
  {
   "cell_type": "markdown",
   "metadata": {},
   "source": [
    "### Q10. Perform the Hierarchical Indexing in the above created dataset."
   ]
  },
  {
   "cell_type": "code",
   "execution_count": 92,
   "metadata": {},
   "outputs": [
    {
     "name": "stdout",
     "output_type": "stream",
     "text": [
      "DataFrame with Hierarchical Indexing:\n",
      "                      age      address  vote_cast\n",
      "voter_id voter_name                              \n",
      "1        Jane        30.0  123 Main St       True\n",
      "2        Jaffri       NaN         None      False\n",
      "3        Aman        25.0   456 Elm St       True\n",
      "4        Birla       40.0   789 Oak St       True\n",
      "5        Aalok        NaN         None      False\n"
     ]
    }
   ],
   "source": [
    "import pandas as pd\n",
    "\n",
    "# Create a sample DataFrame for the online election system\n",
    "data = {\n",
    "    'voter_id': [1, 2, 3, 4, 5],\n",
    "    'voter_name': ['Jane', 'Jaffri', 'Aman', 'Birla', 'Aalok'],\n",
    "    'age': [30, None, 25, 40, None],\n",
    "    'address': ['123 Main St', None, '456 Elm St', '789 Oak St', None],\n",
    "    'vote_cast': [True, False, True, True, False]\n",
    "}\n",
    "\n",
    "df = pd.DataFrame(data)\n",
    "\n",
    "# Create hierarchical indexing with 'voter_id' and 'voter_name'\n",
    "df.set_index(['voter_id', 'voter_name'], inplace=True)\n",
    "\n",
    "# Display the DataFrame with hierarchical indexing\n",
    "print(\"DataFrame with Hierarchical Indexing:\")\n",
    "print(df)\n"
   ]
  }
 ],
 "metadata": {
  "kernelspec": {
   "display_name": "Python 3",
   "language": "python",
   "name": "python3"
  },
  "language_info": {
   "codemirror_mode": {
    "name": "ipython",
    "version": 3
   },
   "file_extension": ".py",
   "mimetype": "text/x-python",
   "name": "python",
   "nbconvert_exporter": "python",
   "pygments_lexer": "ipython3",
   "version": "3.11.4"
  },
  "orig_nbformat": 4
 },
 "nbformat": 4,
 "nbformat_minor": 2
}
